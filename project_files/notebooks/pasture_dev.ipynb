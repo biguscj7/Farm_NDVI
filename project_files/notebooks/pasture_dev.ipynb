{
 "cells": [
  {
   "cell_type": "code",
   "execution_count": 2,
   "metadata": {
    "collapsed": true
   },
   "outputs": [],
   "source": [
    "from sentinelsat import SentinelAPI, read_geojson, geojson_to_wkt\n",
    "import rasterio\n",
    "import rasterio.mask\n",
    "import numpy as np\n",
    "import numpy.ma as ma\n",
    "from rasterio.windows import from_bounds\n",
    "from rasterio.warp import calculate_default_transform, reproject, Resampling\n",
    "import geopandas as gpd\n",
    "import os\n",
    "import shutil\n",
    "from zipfile import ZipFile\n"
   ]
  },
  {
   "cell_type": "code",
   "execution_count": 5,
   "outputs": [],
   "source": [
    "all_geom = gpd.read_file('./project_files/farm_simple.geojson')\n",
    "pad_geom = all_geom[all_geom.name == 'East 18 South']\n",
    "pad_geom_m = pad_geom.to_crs('epsg:32616')"
   ],
   "metadata": {
    "collapsed": false,
    "pycharm": {
     "name": "#%%\n"
    }
   }
  },
  {
   "cell_type": "code",
   "execution_count": 31,
   "outputs": [
    {
     "name": "stderr",
     "output_type": "stream",
     "text": [
      "/Users/MarkNyberg/PycharmProjects/sentinel_processing/venv/lib/python3.7/site-packages/ipykernel_launcher.py:26: RuntimeWarning: invalid value encountered in true_divide\n"
     ]
    }
   ],
   "source": [
    "with rasterio.open('./data/S2A_MSIL2A_20200418T164901_N0214_R026_T16TCM_20200418T210937.SAFE/GRANULE/L2A_T16TCM_A025191_20200418T165421/IMG_DATA/R10m/T16TCM_20200418T164901_B04_10m.jp2', 'r') as b4:\n",
    "    b4_img, b4_transform = rasterio.mask.mask(b4, pad_geom_m.geometry, crop=True)\n",
    "    b4_out_meta = b4.meta.copy()\n",
    "    b4_out_meta.update({'driver': 'GTiff',\n",
    "                     'height': b4_img.shape[1],\n",
    "                     'width': b4_img.shape[2],\n",
    "                     'transform': b4_transform})\n",
    "    red = b4_img.astype(float)\n",
    "\n",
    "with rasterio.open('B4_masked.tiff', 'w', **b4_out_meta) as dest:\n",
    "    dest.write(b4_img)\n",
    "\n",
    "with rasterio.open('./data/S2A_MSIL2A_20200418T164901_N0214_R026_T16TCM_20200418T210937.SAFE/GRANULE/L2A_T16TCM_A025191_20200418T165421/IMG_DATA/R10m/T16TCM_20200418T164901_B08_10m.jp2', 'r') as b8:\n",
    "    b8_img, b8_transform = rasterio.mask.mask(b8, pad_geom_m.geometry, crop=True)\n",
    "    b8_out_meta = b8.meta.copy()\n",
    "    b8_out_meta.update({'driver': 'GTiff',\n",
    "                        'height': b8_img.shape[1],\n",
    "                        'width': b8_img.shape[2],\n",
    "                        'transform': b8_transform})\n",
    "    nir = b8_img.astype(float)\n",
    "\n",
    "with rasterio.open('B8_masked.tiff', 'w', **b8_out_meta) as dest:\n",
    "    dest.write(b8_img)\n",
    "\n",
    "\n",
    "ndvi = (nir - red)/(nir + red)\n",
    "b4_out_meta.update({'dtype': rasterio.float64})\n",
    "\n",
    "with rasterio.open('NDVI_masked.tiff', 'w', **b4_out_meta) as dest:\n",
    "    dest.write(ndvi.astype(rasterio.float64))"
   ],
   "metadata": {
    "collapsed": false,
    "pycharm": {
     "name": "#%%\n"
    }
   }
  },
  {
   "cell_type": "code",
   "execution_count": 45,
   "outputs": [
    {
     "name": "stdout",
     "output_type": "stream",
     "text": [
      "0.3608108486820853\n",
      "0.9284578696343402\n",
      "-0.04655493482309125\n"
     ]
    }
   ],
   "source": [
    "print(np.nanmean(ndvi))\n",
    "print(np.nanmax(ndvi))\n",
    "print(np.nanmin(ndvi))"
   ],
   "metadata": {
    "collapsed": false,
    "pycharm": {
     "name": "#%%\n"
    }
   }
  },
  {
   "cell_type": "code",
   "execution_count": 9,
   "outputs": [],
   "source": [
    "with rasterio.open('./project_files/evi_masked.tiff') as src:\n",
    "    evi_img, _ = rasterio.mask.mask(src, pad_geom_m.geometry, crop=True)\n",
    "    count = np.count_nonzero(evi_img)"
   ],
   "metadata": {
    "collapsed": false,
    "pycharm": {
     "name": "#%%\n"
    }
   }
  },
  {
   "cell_type": "code",
   "execution_count": 6,
   "outputs": [
    {
     "data": {
      "text/plain": "(0     239352.018256\n 1       4877.582653\n 2       8655.398718\n 3       4480.266018\n 4       7337.427826\n 5       6666.291519\n 6       6910.027928\n 7       6389.330105\n 8       6523.973234\n 9       5754.268307\n 10      6230.595710\n 11      5462.173002\n 12      6083.058236\n 13      4377.462178\n 14      5273.991024\n 15      4479.148375\n 16      4739.016965\n 17      3719.745478\n 18      7137.874739\n 19      4639.140725\n 20      2914.787679\n 21      1971.950981\n 22      5398.389300\n 23      7827.983507\n 24     17633.188104\n 25     21510.012217\n dtype: float64,\n 0     Farm boundary\n 1         Paddock 1\n 2         Paddock 2\n 3         Paddock 3\n 4         Paddock 4\n 5         Paddock 5\n 6         Paddock 6\n 7         Paddock 7\n 8         Paddock 8\n 9         Paddock 9\n 10       Paddock 10\n 11       Paddock 11\n 12       Paddock 12\n 13       Paddock 13\n 14       Paddock 14\n 15       Paddock 15\n 16       Paddock 16\n 17       Paddock 17\n 18       Paddock 18\n 19       Paddock 19\n 20       Paddock 20\n 21       Paddock 21\n 22       Paddock 22\n 23       Paddock 23\n 24    East 18 North\n 25    East 18 South\n Name: name, dtype: object)"
     },
     "execution_count": 6,
     "metadata": {},
     "output_type": "execute_result"
    }
   ],
   "source": [
    "new_geom = all_geom.to_crs('epsg:32616')\n",
    "new_geom.area, new_geom.name"
   ],
   "metadata": {
    "collapsed": false,
    "pycharm": {
     "name": "#%%\n"
    }
   }
  }
 ],
 "metadata": {
  "kernelspec": {
   "display_name": "Python 3",
   "language": "python",
   "name": "python3"
  },
  "language_info": {
   "codemirror_mode": {
    "name": "ipython",
    "version": 2
   },
   "file_extension": ".py",
   "mimetype": "text/x-python",
   "name": "python",
   "nbconvert_exporter": "python",
   "pygments_lexer": "ipython2",
   "version": "2.7.6"
  }
 },
 "nbformat": 4,
 "nbformat_minor": 0
}