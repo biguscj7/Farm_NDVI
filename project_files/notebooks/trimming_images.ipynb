{
 "metadata": {
  "language_info": {
   "codemirror_mode": {
    "name": "ipython",
    "version": 3
   },
   "file_extension": ".py",
   "mimetype": "text/x-python",
   "name": "python",
   "nbconvert_exporter": "python",
   "pygments_lexer": "ipython3",
   "version": "3.7.4-final"
  },
  "orig_nbformat": 2,
  "kernelspec": {
   "name": "python3",
   "display_name": "Python 3"
  }
 },
 "nbformat": 4,
 "nbformat_minor": 2,
 "cells": [
  {
   "cell_type": "code",
   "execution_count": 1,
   "metadata": {},
   "outputs": [],
   "source": [
    "import os\n",
    "os.chdir('../scripts/')\n",
    "from sentinel2 import FarmKML"
   ]
  },
  {
   "cell_type": "code",
   "execution_count": 2,
   "metadata": {},
   "outputs": [],
   "source": [
    "votm = FarmKML()"
   ]
  },
  {
   "cell_type": "code",
   "execution_count": 3,
   "metadata": {},
   "outputs": [],
   "source": [
    "votm_m = votm.grazeable_gdf.to_crs(crs='epsg:32616')"
   ]
  },
  {
   "cell_type": "code",
   "execution_count": 4,
   "metadata": {},
   "outputs": [
    {
     "output_type": "execute_result",
     "data": {
      "text/plain": [
       "26    473992.425107\n",
       "dtype: float64"
      ]
     },
     "metadata": {},
     "execution_count": 4
    }
   ],
   "source": [
    "votm_m[votm_m.Name == 'buffered'].geometry.area"
   ]
  },
  {
   "cell_type": "code",
   "execution_count": 4,
   "metadata": {},
   "outputs": [
    {
     "output_type": "execute_result",
     "data": {
      "text/plain": [
       "                    Name                        Description  \\\n",
       "0              Paddock 1                                      \n",
       "1              Paddock 2                                      \n",
       "2              Paddock 3                                      \n",
       "3              Paddock 4                                      \n",
       "4              Paddock 5                                      \n",
       "5              Paddock 6                                      \n",
       "6              Paddock 7                                      \n",
       "7              Paddock 8                                      \n",
       "8              Paddock 9                                      \n",
       "9             Paddock 10                                      \n",
       "10            Paddock 11                                      \n",
       "11            Paddock 12                                      \n",
       "12            Paddock 13                                      \n",
       "13            Paddock 14                                      \n",
       "14            Paddock 15                                      \n",
       "15            Paddock 16                                      \n",
       "16            Paddock 17                                      \n",
       "17            Paddock 18                                      \n",
       "18            Paddock 19                                      \n",
       "19            Paddock 20                                      \n",
       "20            Paddock 21                                      \n",
       "21            Paddock 22                                      \n",
       "22            Paddock 23                                      \n",
       "23   East 18 North third                                      \n",
       "24   East 18 South third                                      \n",
       "25  East 18 Middle third                                      \n",
       "26              buffered  Max extents of dataframe with pad   \n",
       "27    all_grazeable_land                               None   \n",
       "\n",
       "                                             geometry  \n",
       "0   POLYGON Z ((-89.14747 42.17183 0.00000, -89.14...  \n",
       "1   POLYGON Z ((-89.14617 42.17203 0.00000, -89.14...  \n",
       "2   POLYGON Z ((-89.14696 42.17160 0.00000, -89.14...  \n",
       "3   POLYGON Z ((-89.14654 42.17100 0.00000, -89.14...  \n",
       "4   POLYGON Z ((-89.14800 42.17076 0.00000, -89.14...  \n",
       "5   POLYGON Z ((-89.14650 42.17032 0.00000, -89.14...  \n",
       "6   POLYGON Z ((-89.14660 42.17030 0.00000, -89.14...  \n",
       "7   POLYGON Z ((-89.14644 42.16978 0.00000, -89.14...  \n",
       "8   POLYGON Z ((-89.14787 42.17019 0.00000, -89.14...  \n",
       "9   POLYGON Z ((-89.14643 42.16973 0.00000, -89.14...  \n",
       "10  POLYGON Z ((-89.14764 42.16913 0.00000, -89.14...  \n",
       "11  POLYGON Z ((-89.14633 42.16870 0.00000, -89.14...  \n",
       "12  POLYGON Z ((-89.14756 42.16860 0.00000, -89.14...  \n",
       "13  POLYGON Z ((-89.14630 42.16841 0.00000, -89.14...  \n",
       "14  POLYGON Z ((-89.14847 42.16970 0.00000, -89.14...  \n",
       "15  POLYGON Z ((-89.14893 42.16968 0.00000, -89.14...  \n",
       "16  POLYGON Z ((-89.14850 42.16973 0.00000, -89.14...  \n",
       "17  POLYGON Z ((-89.14794 42.17028 0.00000, -89.14...  \n",
       "18  POLYGON Z ((-89.14835 42.17101 0.00000, -89.14...  \n",
       "19  POLYGON Z ((-89.14906 42.17145 0.00000, -89.14...  \n",
       "20  POLYGON Z ((-89.14871 42.17205 0.00000, -89.14...  \n",
       "21  POLYGON Z ((-89.14836 42.17237 0.00000, -89.14...  \n",
       "22  POLYGON Z ((-89.14940 42.17334 0.00000, -89.14...  \n",
       "23  POLYGON Z ((-89.14379 42.17034 0.00000, -89.14...  \n",
       "24  POLYGON Z ((-89.14477 42.16893 0.00000, -89.14...  \n",
       "25  POLYGON Z ((-89.14379 42.17034 0.00000, -89.14...  \n",
       "26  POLYGON ((-89.13334 42.17560, -89.13334 42.181...  \n",
       "27  POLYGON Z ((-89.14164 42.17151 0.00000, -89.14...  "
      ],
      "text/html": "<div>\n<style scoped>\n    .dataframe tbody tr th:only-of-type {\n        vertical-align: middle;\n    }\n\n    .dataframe tbody tr th {\n        vertical-align: top;\n    }\n\n    .dataframe thead th {\n        text-align: right;\n    }\n</style>\n<table border=\"1\" class=\"dataframe\">\n  <thead>\n    <tr style=\"text-align: right;\">\n      <th></th>\n      <th>Name</th>\n      <th>Description</th>\n      <th>geometry</th>\n    </tr>\n  </thead>\n  <tbody>\n    <tr>\n      <th>0</th>\n      <td>Paddock 1</td>\n      <td></td>\n      <td>POLYGON Z ((-89.14747 42.17183 0.00000, -89.14...</td>\n    </tr>\n    <tr>\n      <th>1</th>\n      <td>Paddock 2</td>\n      <td></td>\n      <td>POLYGON Z ((-89.14617 42.17203 0.00000, -89.14...</td>\n    </tr>\n    <tr>\n      <th>2</th>\n      <td>Paddock 3</td>\n      <td></td>\n      <td>POLYGON Z ((-89.14696 42.17160 0.00000, -89.14...</td>\n    </tr>\n    <tr>\n      <th>3</th>\n      <td>Paddock 4</td>\n      <td></td>\n      <td>POLYGON Z ((-89.14654 42.17100 0.00000, -89.14...</td>\n    </tr>\n    <tr>\n      <th>4</th>\n      <td>Paddock 5</td>\n      <td></td>\n      <td>POLYGON Z ((-89.14800 42.17076 0.00000, -89.14...</td>\n    </tr>\n    <tr>\n      <th>5</th>\n      <td>Paddock 6</td>\n      <td></td>\n      <td>POLYGON Z ((-89.14650 42.17032 0.00000, -89.14...</td>\n    </tr>\n    <tr>\n      <th>6</th>\n      <td>Paddock 7</td>\n      <td></td>\n      <td>POLYGON Z ((-89.14660 42.17030 0.00000, -89.14...</td>\n    </tr>\n    <tr>\n      <th>7</th>\n      <td>Paddock 8</td>\n      <td></td>\n      <td>POLYGON Z ((-89.14644 42.16978 0.00000, -89.14...</td>\n    </tr>\n    <tr>\n      <th>8</th>\n      <td>Paddock 9</td>\n      <td></td>\n      <td>POLYGON Z ((-89.14787 42.17019 0.00000, -89.14...</td>\n    </tr>\n    <tr>\n      <th>9</th>\n      <td>Paddock 10</td>\n      <td></td>\n      <td>POLYGON Z ((-89.14643 42.16973 0.00000, -89.14...</td>\n    </tr>\n    <tr>\n      <th>10</th>\n      <td>Paddock 11</td>\n      <td></td>\n      <td>POLYGON Z ((-89.14764 42.16913 0.00000, -89.14...</td>\n    </tr>\n    <tr>\n      <th>11</th>\n      <td>Paddock 12</td>\n      <td></td>\n      <td>POLYGON Z ((-89.14633 42.16870 0.00000, -89.14...</td>\n    </tr>\n    <tr>\n      <th>12</th>\n      <td>Paddock 13</td>\n      <td></td>\n      <td>POLYGON Z ((-89.14756 42.16860 0.00000, -89.14...</td>\n    </tr>\n    <tr>\n      <th>13</th>\n      <td>Paddock 14</td>\n      <td></td>\n      <td>POLYGON Z ((-89.14630 42.16841 0.00000, -89.14...</td>\n    </tr>\n    <tr>\n      <th>14</th>\n      <td>Paddock 15</td>\n      <td></td>\n      <td>POLYGON Z ((-89.14847 42.16970 0.00000, -89.14...</td>\n    </tr>\n    <tr>\n      <th>15</th>\n      <td>Paddock 16</td>\n      <td></td>\n      <td>POLYGON Z ((-89.14893 42.16968 0.00000, -89.14...</td>\n    </tr>\n    <tr>\n      <th>16</th>\n      <td>Paddock 17</td>\n      <td></td>\n      <td>POLYGON Z ((-89.14850 42.16973 0.00000, -89.14...</td>\n    </tr>\n    <tr>\n      <th>17</th>\n      <td>Paddock 18</td>\n      <td></td>\n      <td>POLYGON Z ((-89.14794 42.17028 0.00000, -89.14...</td>\n    </tr>\n    <tr>\n      <th>18</th>\n      <td>Paddock 19</td>\n      <td></td>\n      <td>POLYGON Z ((-89.14835 42.17101 0.00000, -89.14...</td>\n    </tr>\n    <tr>\n      <th>19</th>\n      <td>Paddock 20</td>\n      <td></td>\n      <td>POLYGON Z ((-89.14906 42.17145 0.00000, -89.14...</td>\n    </tr>\n    <tr>\n      <th>20</th>\n      <td>Paddock 21</td>\n      <td></td>\n      <td>POLYGON Z ((-89.14871 42.17205 0.00000, -89.14...</td>\n    </tr>\n    <tr>\n      <th>21</th>\n      <td>Paddock 22</td>\n      <td></td>\n      <td>POLYGON Z ((-89.14836 42.17237 0.00000, -89.14...</td>\n    </tr>\n    <tr>\n      <th>22</th>\n      <td>Paddock 23</td>\n      <td></td>\n      <td>POLYGON Z ((-89.14940 42.17334 0.00000, -89.14...</td>\n    </tr>\n    <tr>\n      <th>23</th>\n      <td>East 18 North third</td>\n      <td></td>\n      <td>POLYGON Z ((-89.14379 42.17034 0.00000, -89.14...</td>\n    </tr>\n    <tr>\n      <th>24</th>\n      <td>East 18 South third</td>\n      <td></td>\n      <td>POLYGON Z ((-89.14477 42.16893 0.00000, -89.14...</td>\n    </tr>\n    <tr>\n      <th>25</th>\n      <td>East 18 Middle third</td>\n      <td></td>\n      <td>POLYGON Z ((-89.14379 42.17034 0.00000, -89.14...</td>\n    </tr>\n    <tr>\n      <th>26</th>\n      <td>buffered</td>\n      <td>Max extents of dataframe with pad</td>\n      <td>POLYGON ((-89.13334 42.17560, -89.13334 42.181...</td>\n    </tr>\n    <tr>\n      <th>27</th>\n      <td>all_grazeable_land</td>\n      <td>None</td>\n      <td>POLYGON Z ((-89.14164 42.17151 0.00000, -89.14...</td>\n    </tr>\n  </tbody>\n</table>\n</div>"
     },
     "metadata": {},
     "execution_count": 4
    }
   ],
   "source": [
    "votm.grazeable_gdf"
   ]
  }
 ]
}