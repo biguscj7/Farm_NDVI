{
 "cells": [
  {
   "cell_type": "code",
   "execution_count": 1,
   "metadata": {},
   "outputs": [],
   "source": [
    "import os\n",
    "os.chdir('../scripts/')\n",
    "from sentinel2 import FarmKML\n",
    "from pprint import pprint as pp\n",
    "import rasterio"
   ]
  },
  {
   "cell_type": "code",
   "execution_count": 2,
   "metadata": {},
   "outputs": [
    {
     "name": "stdin",
     "output_type": "stream",
     "text": [
      "\n",
      "    Name                  Description\n",
      "--  --------------------  ---------------------------------\n",
      " 0  Non-grazing\n",
      " 1  Farm boundary\n",
      " 2  Paddock 1\n",
      " 3  Paddock 2\n",
      " 4  Paddock 3\n",
      " 5  Paddock 4\n",
      " 6  Paddock 5\n",
      " 7  Paddock 6\n",
      " 8  Paddock 7\n",
      " 9  Paddock 8\n",
      "10  Paddock 9\n",
      "11  Paddock 10\n",
      "12  Paddock 11\n",
      "13  Paddock 12\n",
      "14  Paddock 13\n",
      "15  Paddock 14\n",
      "16  Paddock 15\n",
      "17  Paddock 16\n",
      "18  Paddock 17\n",
      "19  Paddock 18\n",
      "20  Paddock 19\n",
      "21  Paddock 20\n",
      "22  Paddock 21\n",
      "23  Paddock 22\n",
      "24  Paddock 23\n",
      "25  East 18 North third\n",
      "26  East 18 South third\n",
      "27  East 18 Middle third\n",
      "28  buffered              Max extents of dataframe with pad\n",
      "Enter your choice for outline of grazeable land:  1\n",
      "\n",
      "    Name                  Description\n",
      "--  --------------------  ---------------------------------\n",
      " 0  Non-grazing\n",
      " 1  Farm boundary\n",
      " 2  Paddock 1\n",
      " 3  Paddock 2\n",
      " 4  Paddock 3\n",
      " 5  Paddock 4\n",
      " 6  Paddock 5\n",
      " 7  Paddock 6\n",
      " 8  Paddock 7\n",
      " 9  Paddock 8\n",
      "10  Paddock 9\n",
      "11  Paddock 10\n",
      "12  Paddock 11\n",
      "13  Paddock 12\n",
      "14  Paddock 13\n",
      "15  Paddock 14\n",
      "16  Paddock 15\n",
      "17  Paddock 16\n",
      "18  Paddock 17\n",
      "19  Paddock 18\n",
      "20  Paddock 19\n",
      "21  Paddock 20\n",
      "22  Paddock 21\n",
      "23  Paddock 22\n",
      "24  Paddock 23\n",
      "25  East 18 North third\n",
      "26  East 18 South third\n",
      "27  East 18 Middle third\n",
      "28  buffered              Max extents of dataframe with pad\n",
      "Enter exclusion geometry if one exists, else enter '99':  0\n"
     ]
    }
   ],
   "source": [
    "votm = FarmKML()"
   ]
  },
  {
   "cell_type": "code",
   "execution_count": 3,
   "metadata": {},
   "outputs": [],
   "source": [
    "votm_m = votm.grazeable_gdf.to_crs(crs='epsg:32616')"
   ]
  },
  {
   "cell_type": "code",
   "execution_count": 4,
   "metadata": {},
   "outputs": [
    {
     "data": {
      "text/html": [
       "<div>\n",
       "<style scoped>\n",
       "    .dataframe tbody tr th:only-of-type {\n",
       "        vertical-align: middle;\n",
       "    }\n",
       "\n",
       "    .dataframe tbody tr th {\n",
       "        vertical-align: top;\n",
       "    }\n",
       "\n",
       "    .dataframe thead th {\n",
       "        text-align: right;\n",
       "    }\n",
       "</style>\n",
       "<table border=\"1\" class=\"dataframe\">\n",
       "  <thead>\n",
       "    <tr style=\"text-align: right;\">\n",
       "      <th></th>\n",
       "      <th>minx</th>\n",
       "      <th>miny</th>\n",
       "      <th>maxx</th>\n",
       "      <th>maxy</th>\n",
       "    </tr>\n",
       "  </thead>\n",
       "  <tbody>\n",
       "    <tr>\n",
       "      <th>26</th>\n",
       "      <td>-89.158188</td>\n",
       "      <td>42.159</td>\n",
       "      <td>-89.133337</td>\n",
       "      <td>42.18186</td>\n",
       "    </tr>\n",
       "  </tbody>\n",
       "</table>\n",
       "</div>"
      ],
      "text/plain": [
       "         minx    miny       maxx      maxy\n",
       "26 -89.158188  42.159 -89.133337  42.18186"
      ]
     },
     "execution_count": 4,
     "metadata": {},
     "output_type": "execute_result"
    }
   ],
   "source": [
    "votm.grazeable_gdf[votm.grazeable_gdf.Name == 'buffered'].geometry.bounds"
   ]
  },
  {
   "cell_type": "markdown",
   "metadata": {},
   "source": [
    "# Code for trimming the jp2 file and saving a smaller geotiff"
   ]
  },
  {
   "cell_type": "code",
   "execution_count": 5,
   "metadata": {},
   "outputs": [],
   "source": [
    "shape = votm_m[votm_m.Name == 'buffered'].geometry\n",
    "\n",
    "with rasterio.open(\"../T16TCM_20200917T163839_B04_10m.jp2\") as src:\n",
    "    out_image, out_transform = rasterio.mask.mask(src, shape, crop=True)\n",
    "    out_meta = src.meta\n",
    "\n",
    "    out_meta.update({\"driver\": \"GTiff\",\n",
    "                 \"height\": out_image.shape[1],\n",
    "                 \"width\": out_image.shape[2],\n",
    "                 \"transform\": out_transform})\n",
    "\n",
    "with rasterio.open(\"cropped_masked.tif\", \"w\", **out_meta) as dest:\n",
    "    dest.write(out_image)"
   ]
  }
 ],
 "metadata": {
  "kernelspec": {
   "display_name": "iPython",
   "language": "python",
   "name": "python3"
  },
  "language_info": {
   "codemirror_mode": {
    "name": "ipython",
    "version": 3
   },
   "file_extension": ".py",
   "mimetype": "text/x-python",
   "name": "python",
   "nbconvert_exporter": "python",
   "pygments_lexer": "ipython3",
   "version": "3.8.5"
  }
 },
 "nbformat": 4,
 "nbformat_minor": 4
}
