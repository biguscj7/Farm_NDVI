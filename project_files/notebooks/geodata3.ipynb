{
 "cells": [
  {
   "cell_type": "code",
   "execution_count": 14,
   "metadata": {
    "collapsed": true
   },
   "outputs": [],
   "source": [
    "import rasterio\n",
    "from sentinelsat import SentinelAPI, read_geojson, geojson_to_wkt\n",
    "import rasterio\n",
    "import rasterio.mask\n",
    "import numpy as np\n",
    "import numpy.ma as ma\n",
    "from rasterio.windows import from_bounds\n",
    "from rasterio.warp import calculate_default_transform, reproject, Resampling\n",
    "import geopandas as gpd\n",
    "import os\n",
    "import shutil\n",
    "from zipfile import ZipFile\n",
    "\n",
    "USER = 'bigusdeveloper'\n",
    "PW = 'ZFknqZ3^44&&VGek'"
   ]
  },
  {
   "cell_type": "code",
   "execution_count": 2,
   "outputs": [
    {
     "name": "stdout",
     "output_type": "stream",
     "text": [
      "OrderedDict([('93a439d0-a01c-4b0c-8455-eedbce83e67a', {'title': 'S2B_MSIL2A_20200420T163829_N0214_R126_T16TCM_20200420T210016', 'link': \"https://scihub.copernicus.eu/dhus/odata/v1/Products('93a439d0-a01c-4b0c-8455-eedbce83e67a')/$value\", 'link_alternative': \"https://scihub.copernicus.eu/dhus/odata/v1/Products('93a439d0-a01c-4b0c-8455-eedbce83e67a')/\", 'link_icon': \"https://scihub.copernicus.eu/dhus/odata/v1/Products('93a439d0-a01c-4b0c-8455-eedbce83e67a')/Products('Quicklook')/$value\", 'summary': 'Date: 2020-04-20T16:38:29.024Z, Instrument: MSI, Mode: , Satellite: Sentinel-2, Size: 1.10 GB', 'beginposition': datetime.datetime(2020, 4, 20, 16, 38, 29, 24000), 'endposition': datetime.datetime(2020, 4, 20, 16, 38, 29, 24000), 'ingestiondate': datetime.datetime(2020, 4, 21, 3, 51, 34, 635000), 'orbitnumber': 16311, 'relativeorbitnumber': 126, 'vegetationpercentage': 17.104952, 'notvegetatedpercentage': 73.490554, 'waterpercentage': 0.759992, 'unclassifiedpercentage': 1.063966, 'mediumprobacloudspercentage': 0.400939, 'highprobacloudspercentage': 0.409304, 'snowicepercentage': 0.000166, 'cloudcoverpercentage': 5.086048, 'level1cpdiidentifier': 'S2B_OPER_MSI_L1C_TL_SGS__20200420T201817_A016311_T16TCM_N02.09', 'gmlfootprint': '<gml:Polygon srsName=\"http://www.opengis.net/gml/srs/epsg.xml#4326\" xmlns:gml=\"http://www.opengis.net/gml\">\\n   <gml:outerBoundaryIs>\\n      <gml:LinearRing>\\n         <gml:coordinates>42.344778566309515,-89.4281 42.427352942415745,-89.401886 42.44744302996699,-88.09686 41.458681613653354,-88.08002 41.438836285507165,-89.39395 42.344778566309515,-89.4281</gml:coordinates>\\n      </gml:LinearRing>\\n   </gml:outerBoundaryIs>\\n</gml:Polygon>', 'footprint': 'MULTIPOLYGON (((-89.39395 41.438836285507165, -88.08002 41.458681613653354, -88.09686 42.44744302996699, -89.401886 42.427352942415745, -89.4281 42.344778566309515, -89.39395 41.438836285507165)))', 'format': 'SAFE', 'processingbaseline': '02.14', 'platformname': 'Sentinel-2', 'filename': 'S2B_MSIL2A_20200420T163829_N0214_R126_T16TCM_20200420T210016.SAFE', 'instrumentname': 'Multi-Spectral Instrument', 'instrumentshortname': 'MSI', 'size': '1.10 GB', 's2datatakeid': 'GS2B_20200420T163829_016311_N02.14', 'producttype': 'S2MSI2A', 'platformidentifier': '2017-013A', 'orbitdirection': 'DESCENDING', 'platformserialidentifier': 'Sentinel-2B', 'processinglevel': 'Level-2A', 'identifier': 'S2B_MSIL2A_20200420T163829_N0214_R126_T16TCM_20200420T210016', 'uuid': '93a439d0-a01c-4b0c-8455-eedbce83e67a'}), ('df0e7ec5-8aa2-494d-81f4-8248e7cb3715', {'title': 'S2A_MSIL2A_20200418T164901_N0214_R026_T16TCM_20200418T210937', 'link': \"https://scihub.copernicus.eu/dhus/odata/v1/Products('df0e7ec5-8aa2-494d-81f4-8248e7cb3715')/$value\", 'link_alternative': \"https://scihub.copernicus.eu/dhus/odata/v1/Products('df0e7ec5-8aa2-494d-81f4-8248e7cb3715')/\", 'link_icon': \"https://scihub.copernicus.eu/dhus/odata/v1/Products('df0e7ec5-8aa2-494d-81f4-8248e7cb3715')/Products('Quicklook')/$value\", 'summary': 'Date: 2020-04-18T16:49:01.024Z, Instrument: MSI, Mode: , Satellite: Sentinel-2, Size: 906.33 MB', 'beginposition': datetime.datetime(2020, 4, 18, 16, 49, 1, 24000), 'endposition': datetime.datetime(2020, 4, 18, 16, 49, 1, 24000), 'ingestiondate': datetime.datetime(2020, 4, 19, 4, 7, 23, 613000), 'orbitnumber': 25191, 'relativeorbitnumber': 26, 'cloudcoverpercentage': 0.508078, 'highprobacloudspercentage': 0.235021, 'mediumprobacloudspercentage': 0.120136, 'snowicepercentage': 5.2e-05, 'vegetationpercentage': 14.930899, 'waterpercentage': 0.352037, 'notvegetatedpercentage': 82.467723, 'unclassifiedpercentage': 0.357611, 'gmlfootprint': '<gml:Polygon srsName=\"http://www.opengis.net/gml/srs/epsg.xml#4326\" xmlns:gml=\"http://www.opengis.net/gml\">\\n   <gml:outerBoundaryIs>\\n      <gml:LinearRing>\\n         <gml:coordinates>42.44555793512965,-88.2193 42.32210347650357,-88.266266 42.17595021615731,-88.32178 42.029817915404905,-88.37698 41.88369968065968,-88.43179 41.73760294689875,-88.486176 41.59154583254291,-88.540375 41.4509420332511,-88.59244 41.438836285507165,-89.39395 42.42690168750588,-89.43118 42.44555793512965,-88.2193</gml:coordinates>\\n      </gml:LinearRing>\\n   </gml:outerBoundaryIs>\\n</gml:Polygon>', 'format': 'SAFE', 'instrumentshortname': 'MSI', 'instrumentname': 'Multi-Spectral Instrument', 'footprint': 'MULTIPOLYGON (((-89.39395 41.438836285507165, -88.59244 41.4509420332511, -88.540375 41.59154583254291, -88.486176 41.73760294689875, -88.43179 41.88369968065968, -88.37698 42.029817915404905, -88.32178 42.17595021615731, -88.266266 42.32210347650357, -88.2193 42.44555793512965, -89.43118 42.42690168750588, -89.39395 41.438836285507165)))', 's2datatakeid': 'GS2A_20200418T164901_025191_N02.14', 'platformidentifier': '2015-028A', 'orbitdirection': 'DESCENDING', 'platformserialidentifier': 'Sentinel-2A', 'processingbaseline': '02.14', 'processinglevel': 'Level-2A', 'producttype': 'S2MSI2A', 'platformname': 'Sentinel-2', 'size': '906.33 MB', 'filename': 'S2A_MSIL2A_20200418T164901_N0214_R026_T16TCM_20200418T210937.SAFE', 'level1cpdiidentifier': 'S2A_OPER_MSI_L1C_TL_SGS__20200418T202724_A025191_T16TCM_N02.09', 'identifier': 'S2A_MSIL2A_20200418T164901_N0214_R026_T16TCM_20200418T210937', 'uuid': 'df0e7ec5-8aa2-494d-81f4-8248e7cb3715'})])\n"
     ]
    }
   ],
   "source": [
    "api = SentinelAPI(USER, PW, api_url='https://scihub.copernicus.eu/dhus')\n",
    "\n",
    "footprint = geojson_to_wkt(read_geojson('grazing.json'))\n",
    "products = api.query(footprint,\n",
    "                     area_relation='Contains',\n",
    "                     date=('20200417', '20200421'),\n",
    "                     platformname='Sentinel-2',\n",
    "                     processinglevel='Level-2A')\n",
    "\n",
    "print(products)"
   ],
   "metadata": {
    "collapsed": false,
    "pycharm": {
     "name": "#%%\n"
    }
   }
  },
  {
   "cell_type": "code",
   "execution_count": 26,
   "outputs": [
    {
     "data": {
      "text/plain": "(OrderedDict([('93a439d0-a01c-4b0c-8455-eedbce83e67a',\n               {'id': '93a439d0-a01c-4b0c-8455-eedbce83e67a',\n                'title': 'S2B_MSIL2A_20200420T163829_N0214_R126_T16TCM_20200420T210016',\n                'size': 1179766201,\n                'md5': '96AA0F65048AEB6C4405181A50A23A4C',\n                'date': datetime.datetime(2020, 4, 20, 16, 38, 29, 24000),\n                'footprint': 'POLYGON((-89.4281 42.344778566309515,-89.401886 42.427352942415745,-88.09686 42.44744302996699,-88.08002 41.458681613653354,-89.39395 41.438836285507165,-89.4281 42.344778566309515))',\n                'url': \"https://scihub.copernicus.eu/dhus/odata/v1/Products('93a439d0-a01c-4b0c-8455-eedbce83e67a')/$value\",\n                'Online': True,\n                'Creation Date': datetime.datetime(2020, 4, 21, 3, 53, 12),\n                'Ingestion Date': datetime.datetime(2020, 4, 21, 3, 51, 34, 635000),\n                'path': './data/S2B_MSIL2A_20200420T163829_N0214_R126_T16TCM_20200420T210016.zip',\n                'downloaded_bytes': 0}),\n              ('df0e7ec5-8aa2-494d-81f4-8248e7cb3715',\n               {'id': 'df0e7ec5-8aa2-494d-81f4-8248e7cb3715',\n                'title': 'S2A_MSIL2A_20200418T164901_N0214_R026_T16TCM_20200418T210937',\n                'size': 950415649,\n                'md5': 'B67FD12948596CCBA710C097B197F184',\n                'date': datetime.datetime(2020, 4, 18, 16, 49, 1, 24000),\n                'footprint': 'POLYGON((-88.2193 42.44555793512965,-88.266266 42.32210347650357,-88.32178 42.17595021615731,-88.37698 42.029817915404905,-88.43179 41.88369968065968,-88.486176 41.73760294689875,-88.540375 41.59154583254291,-88.59244 41.4509420332511,-89.39395 41.438836285507165,-89.43118 42.42690168750588,-88.2193 42.44555793512965))',\n                'url': \"https://scihub.copernicus.eu/dhus/odata/v1/Products('df0e7ec5-8aa2-494d-81f4-8248e7cb3715')/$value\",\n                'Online': True,\n                'Creation Date': datetime.datetime(2020, 4, 19, 4, 9, 19, 3000),\n                'Ingestion Date': datetime.datetime(2020, 4, 19, 4, 7, 23, 613000),\n                'path': './data/S2A_MSIL2A_20200418T164901_N0214_R026_T16TCM_20200418T210937.zip',\n                'downloaded_bytes': 0})]),\n OrderedDict(),\n set())"
     },
     "execution_count": 26,
     "metadata": {},
     "output_type": "execute_result"
    }
   ],
   "source": [
    "products_gdf = api.to_geodataframe(products)\n",
    "products_gdf_sorted = products_gdf.sort_values(['ingestiondate'], ascending=[False])\n",
    "products_gdf_sorted = products_gdf_sorted.head(1)\n",
    "\n",
    "api.download_all(products, directory_path='./data/')"
   ],
   "metadata": {
    "collapsed": false,
    "pycharm": {
     "name": "#%%\n"
    }
   }
  },
  {
   "cell_type": "code",
   "execution_count": 14,
   "outputs": [],
   "source": [
    "with ZipFile('./S2A_MSIL2A_20200418T164901_N0214_R026_T16TCM_20200418T210937.zip', 'r') as zipObj:\n",
    "    zipObj.extractall('temp')"
   ],
   "metadata": {
    "collapsed": false,
    "pycharm": {
     "name": "#%%\n"
    }
   }
  },
  {
   "cell_type": "code",
   "execution_count": 7,
   "outputs": [],
   "source": [
    "with ZipFile('./downloads/S2B_MSIL2A_20200420T163829_N0214_R126_T16TCM_20200420T210016.zip', 'r') as zipObj:\n",
    "    zipObj.extractall('./data/')"
   ],
   "metadata": {
    "collapsed": false,
    "pycharm": {
     "name": "#%%\n"
    }
   }
  },
  {
   "cell_type": "code",
   "execution_count": 10,
   "outputs": [],
   "source": [
    "os.remove('./downloads/S2B_MSIL2A_20200420T163829_N0214_R126_T16TCM_20200420T210016.zip')"
   ],
   "metadata": {
    "collapsed": false,
    "pycharm": {
     "name": "#%%\n"
    }
   }
  },
  {
   "cell_type": "code",
   "execution_count": 8,
   "outputs": [
    {
     "name": "stdout",
     "output_type": "stream",
     "text": [
      "epsg:4326\n",
      "EPSG:32616\n"
     ]
    }
   ],
   "source": [
    "grazing_mask = gpd.read_file('grazing.json')\n",
    "\n",
    "print(grazing_mask.crs)\n",
    "\n",
    "with rasterio.open('./data/S2A_MSIL2A_20200418T164901_N0214_R026_T16TCM_20200418T210937.SAFE/GRANULE/L2A_T16TCM_A025191_20200418T165421/IMG_DATA/R10m/T16TCM_20200418T164901_B04_10m.jp2') as src:\n",
    "    print(src.crs)\n"
   ],
   "metadata": {
    "collapsed": false,
    "pycharm": {
     "name": "#%%\n"
    }
   }
  },
  {
   "cell_type": "code",
   "execution_count": 5,
   "outputs": [],
   "source": [
    "dst_crs = 'EPSG:4326'\n",
    "\n",
    "with rasterio.open('./data/S2A_MSIL2A_20200418T164901_N0214_R026_T16TCM_20200418T210937.SAFE/GRANULE/L2A_T16TCM_A025191_20200418T165421/IMG_DATA/R10m/T16TCM_20200418T164901_B04_10m.jp2') as src:\n",
    "    transform, width, height = calculate_default_transform(src.crs, dst_crs,\n",
    "                                                           src.width, src.height, *src.bounds)\n",
    "    kwargs = src.meta.copy()\n",
    "    kwargs.update({'crs': dst_crs,\n",
    "                   'transform': transform,\n",
    "                   'width': width,\n",
    "                   'height': height})\n",
    "\n",
    "    with rasterio.open('./output1.tiff', 'w', **kwargs) as dst:\n",
    "        for i in range(1, src.count + 1):\n",
    "            reproject(\n",
    "                source=rasterio.band(src, i),\n",
    "                destination=rasterio.band(dst, i),\n",
    "                src_transform=src.transform,\n",
    "                src_crs=src.crs,\n",
    "                dst_transform=transform,\n",
    "                dst_crs=dst_crs,\n",
    "                resampling=Resampling.nearest)"
   ],
   "metadata": {
    "collapsed": false,
    "pycharm": {
     "name": "#%%\n"
    }
   }
  },
  {
   "cell_type": "code",
   "execution_count": 7,
   "outputs": [
    {
     "name": "stdout",
     "output_type": "stream",
     "text": [
      "EPSG:4326\n",
      "('uint16',)\n"
     ]
    },
    {
     "name": "stderr",
     "output_type": "stream",
     "text": [
      "/Users/MarkNyberg/PycharmProjects/sentinel_processing/venv/lib/python3.7/site-packages/rasterio/__init__.py:219: NotGeoreferencedWarning: Dataset has no geotransform set. The identity matrix may be returned.\n",
      "  s = DatasetReader(path, driver=driver, sharing=sharing, **kwargs)\n"
     ]
    }
   ],
   "source": [
    "info_test = rasterio.open('./output.tiff', 'r')\n",
    "\n",
    "print(info_test.crs)\n",
    "print(info_test.dtypes)\n",
    "\n",
    "info_test.close()"
   ],
   "metadata": {
    "collapsed": false,
    "pycharm": {
     "name": "#%%\n"
    }
   }
  },
  {
   "cell_type": "code",
   "execution_count": 6,
   "outputs": [],
   "source": [
    "with rasterio.open('output1.tiff', 'r') as src:\n",
    "    out_image, out_transform = rasterio.mask.mask(src,\n",
    "                                                  grazing_mask.geometry,\n",
    "                                                  crop=True)\n",
    "    out_meta = src.meta.copy()\n",
    "    out_meta.update({'height': out_image.shape[1],\n",
    "                     'width': out_image.shape[2],\n",
    "                     'transform': out_transform})\n",
    "    with rasterio.open('./masked_tiff.tiff', 'w', **out_meta) as dest:\n",
    "        dest.write(out_image)\n"
   ],
   "metadata": {
    "collapsed": false,
    "pycharm": {
     "name": "#%%\n"
    }
   }
  },
  {
   "cell_type": "code",
   "execution_count": 2,
   "outputs": [
    {
     "name": "stdout",
     "output_type": "stream",
     "text": [
      "EPSG:32616\n"
     ]
    }
   ],
   "source": [
    "base_path = './S2A_MSIL2A_20200418T164901_N0214_R026_T16TCM_20200418T210937.SAFE/GRANULE/L2A_T16TCM_A025191_20200418T165421/IMG_DATA/R10m/'\n",
    "b4 = rasterio.open(base_path + 'T16TCM_20200418T164901_B04_10m.jp2')\n",
    "b3 = rasterio.open(base_path + 'T16TCM_20200418T164901_B03_10m.jp2')\n",
    "b2 = rasterio.open(base_path + 'T16TCM_20200418T164901_B02_10m.jp2')\n",
    "\n",
    "print(b4.crs)\n",
    "\n",
    "with rasterio.open('RGB.tiff','w',driver='Gtiff', width=b4.width, height=b4.height,\n",
    "              count=3,crs=b4.crs,transform=b4.transform, dtype=b4.dtypes[0]) as rgb:\n",
    "    rgb.write(b2.read(1),1)\n",
    "    rgb.write(b3.read(1),2)\n",
    "    rgb.write(b4.read(1),3)\n",
    "    rgb.close()"
   ],
   "metadata": {
    "collapsed": false,
    "pycharm": {
     "name": "#%%\n"
    }
   }
  },
  {
   "cell_type": "code",
   "execution_count": 3,
   "outputs": [],
   "source": [
    "grazing_mask = gpd.read_file('grazing.json')\n",
    "transform_grazing = grazing_mask.to_crs('epsg:32616')\n",
    "\n",
    "with rasterio.open('RGB.tiff') as src:\n",
    "    out_image, out_transform = rasterio.mask.mask(src, transform_grazing.geometry, crop=True)\n",
    "    out_meta = src.meta.copy()\n",
    "    out_meta.update({'driver': 'GTiff',\n",
    "                     'height': out_image.shape[1],\n",
    "                     'width': out_image.shape[2],\n",
    "                     'transform': out_transform})\n",
    "\n",
    "with rasterio.open('RGB_masked.tiff', 'w', **out_meta) as dest:\n",
    "    dest.write(out_image)"
   ],
   "metadata": {
    "collapsed": false,
    "pycharm": {
     "name": "#%%\n"
    }
   }
  },
  {
   "cell_type": "code",
   "execution_count": 26,
   "outputs": [
    {
     "name": "stderr",
     "output_type": "stream",
     "text": [
      "/Users/MarkNyberg/PycharmProjects/sentinel_processing/venv/lib/python3.7/site-packages/ipykernel_launcher.py:7: RuntimeWarning: invalid value encountered in true_divide\n",
      "  import sys\n"
     ]
    }
   ],
   "source": [
    "b4 = rasterio.open('./data/S2B_MSIL2A_20200420T163829_N0214_R126_T16TCM_20200420T210016.SAFE/GRANULE/L2A_T16TCM_A016311_20200420T165055/IMG_DATA/R10m/T16TCM_20200420T163829_B04_10m.jp2')\n",
    "b8 = rasterio.open('./data/S2B_MSIL2A_20200420T163829_N0214_R126_T16TCM_20200420T210016.SAFE/GRANULE/L2A_T16TCM_A016311_20200420T165055/IMG_DATA/R10m/T16TCM_20200420T163829_B08_10m.jp2')\n",
    "\n",
    "red = b4.read()\n",
    "nir = b8.read()\n",
    "\n",
    "ndvi = (nir.astype(float)-red.astype(float))/(nir+red)\n",
    "\n",
    "meta = b4.meta\n",
    "meta.update(driver='GTiff')\n",
    "meta.update(dtype=rasterio.float32)\n",
    "\n",
    "with rasterio.open('NDVI2.tif', 'w', **meta) as dst:\n",
    "    dst.write(ndvi.astype(rasterio.float32))\n"
   ],
   "metadata": {
    "collapsed": false,
    "pycharm": {
     "name": "#%%\n"
    }
   }
  },
  {
   "cell_type": "code",
   "execution_count": 27,
   "outputs": [],
   "source": [
    "grazing_mask = gpd.read_file('grazing.json')\n",
    "transform_grazing = grazing_mask.to_crs('epsg:32616')\n",
    "\n",
    "with rasterio.open('NDVI2.tif') as src:\n",
    "    out_image, out_transform = rasterio.mask.mask(src, transform_grazing.geometry, crop=True, nodata=-1)\n",
    "    out_meta = src.meta.copy()\n",
    "    out_meta.update({'driver': 'GTiff',\n",
    "                     'height': out_image.shape[1],\n",
    "                     'width': out_image.shape[2],\n",
    "                     'transform': out_transform})\n",
    "\n",
    "with rasterio.open('NDVI2_masked.tiff', 'w', **out_meta) as dest:\n",
    "    dest.write(out_image)"
   ],
   "metadata": {
    "collapsed": false,
    "pycharm": {
     "name": "#%%\n"
    }
   }
  },
  {
   "cell_type": "code",
   "execution_count": 5,
   "outputs": [
    {
     "name": "stdout",
     "output_type": "stream",
     "text": [
      "Mean - 0.3978427959056594\n",
      "Max - 0.862468957901001\n",
      "Min - 0.0952494665980339\n",
      "Cells - 2434\n",
      "25th Percentile - 0.16954222023487092\n",
      "Std - 0.20301366518351482\n",
      "Var - 0.04121454825124426\n"
     ]
    }
   ],
   "source": [
    "# working on accessing array data from masked tif to do analysis\n",
    "with rasterio.open('NDVI2_masked.tiff', 'r') as experiment:\n",
    "    data = experiment.read(1)\n",
    "    masked_data = ma.masked_less_equal(data, -1)\n",
    "    print(f'Mean - {masked_data.mean()}')\n",
    "    print(f'Max - {masked_data.max()}')\n",
    "    print(f'Min - {masked_data.min()}')\n",
    "    print(f'Cells - {masked_data.count()}')\n",
    "    print(f'25th Percentile - {np.nanpercentile(masked_data, 60)}')\n",
    "    print(f'Std - {masked_data.std()}')\n",
    "    print(f'Var - {masked_data.var()}')"
   ],
   "metadata": {
    "collapsed": false,
    "pycharm": {
     "name": "#%%\n"
    }
   }
  },
  {
   "cell_type": "code",
   "execution_count": 7,
   "outputs": [
    {
     "name": "stdout",
     "output_type": "stream",
     "text": [
      "Mean - 0.6520767901506008\n",
      "Max - 0.9172413945198059\n",
      "Min - 0.14407140016555786\n",
      "Cells - 2434\n",
      "60th Percentile - -1.0\n",
      "Std - 0.11948863006525473\n",
      "Var - 0.014277532714871298\n"
     ]
    }
   ],
   "source": [
    "with rasterio.open('NDVI_masked.tiff', 'r') as experiment:\n",
    "    data = experiment.read(1)\n",
    "    masked_data = ma.masked_less_equal(data, -1)\n",
    "    print(f'Mean - {masked_data.mean()}')\n",
    "    print(f'Max - {masked_data.max()}')\n",
    "    print(f'Min - {masked_data.min()}')\n",
    "    print(f'Cells - {masked_data.count()}')\n",
    "    print(f'60th Percentile - {np.nanpercentile(masked_data, 50)}')\n",
    "    print(f'Std - {masked_data.std()}')\n",
    "    print(f'Var - {masked_data.var()}')"
   ],
   "metadata": {
    "collapsed": false,
    "pycharm": {
     "name": "#%%\n"
    }
   }
  },
  {
   "cell_type": "code",
   "execution_count": 28,
   "outputs": [
    {
     "data": {
      "text/plain": "            name                                           geometry\n0  Farm boundary  POLYGON Z ((-89.14164 42.17151 0.00000, -89.14...",
      "text/html": "<div>\n<style scoped>\n    .dataframe tbody tr th:only-of-type {\n        vertical-align: middle;\n    }\n\n    .dataframe tbody tr th {\n        vertical-align: top;\n    }\n\n    .dataframe thead th {\n        text-align: right;\n    }\n</style>\n<table border=\"1\" class=\"dataframe\">\n  <thead>\n    <tr style=\"text-align: right;\">\n      <th></th>\n      <th>name</th>\n      <th>geometry</th>\n    </tr>\n  </thead>\n  <tbody>\n    <tr>\n      <th>0</th>\n      <td>Farm boundary</td>\n      <td>POLYGON Z ((-89.14164 42.17151 0.00000, -89.14...</td>\n    </tr>\n  </tbody>\n</table>\n</div>"
     },
     "execution_count": 28,
     "metadata": {},
     "output_type": "execute_result"
    }
   ],
   "source": [
    "df = gpd.read_file('farm_simple.geojson')\n",
    "df[df.name == 'Farm boundary'] # retrieves a single element from GeoDataFrame"
   ],
   "metadata": {
    "collapsed": false,
    "pycharm": {
     "name": "#%%\n"
    }
   }
  },
  {
   "cell_type": "code",
   "execution_count": 50,
   "outputs": [
    {
     "ename": "AttributeError",
     "evalue": "'Profile' object has no attribute 'dtype'",
     "output_type": "error",
     "traceback": [
      "\u001B[0;31m---------------------------------------------------------------------------\u001B[0m",
      "\u001B[0;31mAttributeError\u001B[0m                            Traceback (most recent call last)",
      "\u001B[0;32m<ipython-input-50-244a89b3233b>\u001B[0m in \u001B[0;36m<module>\u001B[0;34m\u001B[0m\n\u001B[1;32m     17\u001B[0m                        \u001B[0mheight\u001B[0m\u001B[0;34m=\u001B[0m\u001B[0;36m10980\u001B[0m\u001B[0;34m,\u001B[0m \u001B[0mwidth\u001B[0m\u001B[0;34m=\u001B[0m\u001B[0;36m10980\u001B[0m\u001B[0;34m,\u001B[0m\u001B[0;34m\u001B[0m\u001B[0;34m\u001B[0m\u001B[0m\n\u001B[1;32m     18\u001B[0m                        \u001B[0mcount\u001B[0m\u001B[0;34m=\u001B[0m\u001B[0;36m1\u001B[0m\u001B[0;34m,\u001B[0m \u001B[0mtransform\u001B[0m\u001B[0;34m=\u001B[0m\u001B[0mtransform\u001B[0m\u001B[0;34m,\u001B[0m\u001B[0;34m\u001B[0m\u001B[0;34m\u001B[0m\u001B[0m\n\u001B[0;32m---> 19\u001B[0;31m                        crs=dst_crs, dtype=src.profile.dtype) as dst:\n\u001B[0m\u001B[1;32m     20\u001B[0m         destination, dest_transform = rasterio.warp.reproject(\n\u001B[1;32m     21\u001B[0m             \u001B[0msource\u001B[0m\u001B[0;34m=\u001B[0m\u001B[0mrasterio\u001B[0m\u001B[0;34m.\u001B[0m\u001B[0mband\u001B[0m\u001B[0;34m(\u001B[0m\u001B[0msrc\u001B[0m\u001B[0;34m,\u001B[0m \u001B[0;36m1\u001B[0m\u001B[0;34m)\u001B[0m\u001B[0;34m,\u001B[0m\u001B[0;34m\u001B[0m\u001B[0;34m\u001B[0m\u001B[0m\n",
      "\u001B[0;31mAttributeError\u001B[0m: 'Profile' object has no attribute 'dtype'"
     ]
    }
   ],
   "source": [
    "localname = './data/S2A_MSIL2A_20200418T164901_N0214_R026_T16TCM_20200418T210937.SAFE/GRANULE/L2A_T16TCM_A025191_20200418T165421/IMG_DATA/R10m/T16TCM_20200418T164901_B08_10m.jp2'\n",
    "tifname = 'WGS84-reproject.tif'\n",
    "\n",
    "dst_crs = 'EPSG:4326'\n",
    "\n",
    "with rasterio.open(localname) as src:\n",
    "    transform, width, height = rasterio.warp.calculate_default_transform(src.crs,\n",
    "                                                                         dst_crs,\n",
    "                                                                         10980,\n",
    "                                                                         10980,\n",
    "                                                                         left=src.bounds.left,\n",
    "                                                                         right=src.bounds.right,\n",
    "                                                                         top=src.bounds.top,\n",
    "                                                                         bottom=src.bounds.bottom)\n",
    "\n",
    "    with rasterio.open(tifname, 'w', driver='GTiff',\n",
    "                       height=10980, width=10980,\n",
    "                       count=1, transform=transform,\n",
    "                       crs=dst_crs, dtype=rasterio.uint16) as dst:\n",
    "        destination, dest_transform = rasterio.warp.reproject(\n",
    "            source=rasterio.band(src, 1),\n",
    "            destination=rasterio.band(dst, 1))\n",
    "        dst.write(destination)"
   ],
   "metadata": {
    "collapsed": false,
    "pycharm": {
     "name": "#%%\n"
    }
   }
  },
  {
   "cell_type": "code",
   "execution_count": 41,
   "outputs": [
    {
     "name": "stdout",
     "output_type": "stream",
     "text": [
      "10980\n",
      "10980\n",
      "300000.0\n",
      "409800.0\n"
     ]
    }
   ],
   "source": [
    "localname = './data/S2A_MSIL2A_20200418T164901_N0214_R026_T16TCM_20200418T210937.SAFE/GRANULE/L2A_T16TCM_A025191_20200418T165421/IMG_DATA/R10m/T16TCM_20200418T164901_B08_10m.jp2'\n",
    "tifname = 'WGS84-reproject.tif'\n",
    "\n",
    "dst_crs = 'EPSG:4326'\n",
    "\n",
    "with rasterio.open(localname) as src:\n",
    "    print(src.height)\n",
    "    print(src.width)\n",
    "    print(src.bounds.left)\n",
    "    print(src.bounds.right)"
   ],
   "metadata": {
    "collapsed": false,
    "pycharm": {
     "name": "#%%\n"
    }
   }
  }
 ],
 "metadata": {
  "kernelspec": {
   "display_name": "Python 3",
   "language": "python",
   "name": "python3"
  },
  "language_info": {
   "codemirror_mode": {
    "name": "ipython",
    "version": 2
   },
   "file_extension": ".py",
   "mimetype": "text/x-python",
   "name": "python",
   "nbconvert_exporter": "python",
   "pygments_lexer": "ipython2",
   "version": "2.7.6"
  }
 },
 "nbformat": 4,
 "nbformat_minor": 0
}