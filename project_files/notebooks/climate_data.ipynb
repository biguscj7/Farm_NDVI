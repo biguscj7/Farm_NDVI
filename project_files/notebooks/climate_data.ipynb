{
 "cells": [
  {
   "cell_type": "code",
   "execution_count": 33,
   "metadata": {
    "collapsed": true
   },
   "outputs": [],
   "source": [
    "import requests\n",
    "from pprint import pprint as pp\n",
    "import pandas as pd\n",
    "import datetime as dt"
   ]
  },
  {
   "cell_type": "code",
   "execution_count": 22,
   "outputs": [],
   "source": [
    "r = requests.get('https://www.ncdc.noaa.gov/cdo-web/api/v2/data?datasetid=GHCND&stationid=GHCND:USW00094822&units=standard&startdate=2020-05-01&enddate=2020-05-31&datatypeid=PRCP',\n",
    "                 headers={'token': 'uMPfPqPDxnriGyNjDOXnXHQgmkzXegYE'})"
   ],
   "metadata": {
    "collapsed": false,
    "pycharm": {
     "name": "#%%\n"
    }
   }
  },
  {
   "cell_type": "code",
   "execution_count": 23,
   "outputs": [
    {
     "name": "stdout",
     "output_type": "stream",
     "text": [
      "{'metadata': {'resultset': {'count': 14, 'limit': 25, 'offset': 1}},\n",
      " 'results': [{'attributes': ',,D,2400',\n",
      "              'datatype': 'PRCP',\n",
      "              'date': '2020-05-01T00:00:00',\n",
      "              'station': 'GHCND:USW00094822',\n",
      "              'value': 0.0},\n",
      "             {'attributes': 'T,,D,2400',\n",
      "              'datatype': 'PRCP',\n",
      "              'date': '2020-05-02T00:00:00',\n",
      "              'station': 'GHCND:USW00094822',\n",
      "              'value': 0.0},\n",
      "             {'attributes': ',,D,2400',\n",
      "              'datatype': 'PRCP',\n",
      "              'date': '2020-05-03T00:00:00',\n",
      "              'station': 'GHCND:USW00094822',\n",
      "              'value': 0.0},\n",
      "             {'attributes': ',,D,2400',\n",
      "              'datatype': 'PRCP',\n",
      "              'date': '2020-05-04T00:00:00',\n",
      "              'station': 'GHCND:USW00094822',\n",
      "              'value': 0.0},\n",
      "             {'attributes': ',,D,2400',\n",
      "              'datatype': 'PRCP',\n",
      "              'date': '2020-05-05T00:00:00',\n",
      "              'station': 'GHCND:USW00094822',\n",
      "              'value': 0.35},\n",
      "             {'attributes': ',,D,2400',\n",
      "              'datatype': 'PRCP',\n",
      "              'date': '2020-05-06T00:00:00',\n",
      "              'station': 'GHCND:USW00094822',\n",
      "              'value': 0.0},\n",
      "             {'attributes': ',,D,2400',\n",
      "              'datatype': 'PRCP',\n",
      "              'date': '2020-05-07T00:00:00',\n",
      "              'station': 'GHCND:USW00094822',\n",
      "              'value': 0.0},\n",
      "             {'attributes': ',,D,2400',\n",
      "              'datatype': 'PRCP',\n",
      "              'date': '2020-05-08T00:00:00',\n",
      "              'station': 'GHCND:USW00094822',\n",
      "              'value': 0.0},\n",
      "             {'attributes': 'T,,D,2400',\n",
      "              'datatype': 'PRCP',\n",
      "              'date': '2020-05-09T00:00:00',\n",
      "              'station': 'GHCND:USW00094822',\n",
      "              'value': 0.0},\n",
      "             {'attributes': ',,D,2400',\n",
      "              'datatype': 'PRCP',\n",
      "              'date': '2020-05-10T00:00:00',\n",
      "              'station': 'GHCND:USW00094822',\n",
      "              'value': 0.25},\n",
      "             {'attributes': 'T,,D,2400',\n",
      "              'datatype': 'PRCP',\n",
      "              'date': '2020-05-11T00:00:00',\n",
      "              'station': 'GHCND:USW00094822',\n",
      "              'value': 0.0},\n",
      "             {'attributes': ',,D,2400',\n",
      "              'datatype': 'PRCP',\n",
      "              'date': '2020-05-12T00:00:00',\n",
      "              'station': 'GHCND:USW00094822',\n",
      "              'value': 0.0},\n",
      "             {'attributes': ',,D,2400',\n",
      "              'datatype': 'PRCP',\n",
      "              'date': '2020-05-13T00:00:00',\n",
      "              'station': 'GHCND:USW00094822',\n",
      "              'value': 0.02},\n",
      "             {'attributes': ',,D,2400',\n",
      "              'datatype': 'PRCP',\n",
      "              'date': '2020-05-14T00:00:00',\n",
      "              'station': 'GHCND:USW00094822',\n",
      "              'value': 1.53}]}\n"
     ]
    }
   ],
   "source": [
    "pp(r.json())"
   ],
   "metadata": {
    "collapsed": false,
    "pycharm": {
     "name": "#%%\n"
    }
   }
  },
  {
   "cell_type": "code",
   "execution_count": 27,
   "outputs": [
    {
     "data": {
      "text/plain": "         STATION                                      NAME        DATE  PRCP  \\\n0    USW00094822  ROCKFORD GREATER ROCKFORD AIRPORT, IL US  2019-01-01  0.00   \n1    USW00094822  ROCKFORD GREATER ROCKFORD AIRPORT, IL US  2019-01-02  0.00   \n2    USW00094822  ROCKFORD GREATER ROCKFORD AIRPORT, IL US  2019-01-03  0.00   \n3    USW00094822  ROCKFORD GREATER ROCKFORD AIRPORT, IL US  2019-01-04  0.00   \n4    USW00094822  ROCKFORD GREATER ROCKFORD AIRPORT, IL US  2019-01-05  0.00   \n..           ...                                       ...         ...   ...   \n494  USW00094822  ROCKFORD GREATER ROCKFORD AIRPORT, IL US  2020-05-09  0.00   \n495  USW00094822  ROCKFORD GREATER ROCKFORD AIRPORT, IL US  2020-05-10  0.25   \n496  USW00094822  ROCKFORD GREATER ROCKFORD AIRPORT, IL US  2020-05-11  0.00   \n497  USW00094822  ROCKFORD GREATER ROCKFORD AIRPORT, IL US  2020-05-12  0.00   \n498  USW00094822  ROCKFORD GREATER ROCKFORD AIRPORT, IL US  2020-05-13   NaN   \n\n    PRCP_ATTRIBUTES  SNOW SNOW_ATTRIBUTES  \n0         T,,W,2400   0.0            T,,W  \n1         T,,W,2400   0.0            T,,W  \n2          ,,W,2400   0.0             ,,W  \n3          ,,W,2400   0.0             ,,W  \n4          ,,W,2400   0.0             ,,W  \n..              ...   ...             ...  \n494       T,,D,2400   0.0             ,,D  \n495        ,,D,2400   0.0             ,,D  \n496       T,,D,2400   0.0             ,,D  \n497        ,,D,2400   0.0             ,,D  \n498             NaN   NaN             NaN  \n\n[499 rows x 7 columns]",
      "text/html": "<div>\n<style scoped>\n    .dataframe tbody tr th:only-of-type {\n        vertical-align: middle;\n    }\n\n    .dataframe tbody tr th {\n        vertical-align: top;\n    }\n\n    .dataframe thead th {\n        text-align: right;\n    }\n</style>\n<table border=\"1\" class=\"dataframe\">\n  <thead>\n    <tr style=\"text-align: right;\">\n      <th></th>\n      <th>STATION</th>\n      <th>NAME</th>\n      <th>DATE</th>\n      <th>PRCP</th>\n      <th>PRCP_ATTRIBUTES</th>\n      <th>SNOW</th>\n      <th>SNOW_ATTRIBUTES</th>\n    </tr>\n  </thead>\n  <tbody>\n    <tr>\n      <th>0</th>\n      <td>USW00094822</td>\n      <td>ROCKFORD GREATER ROCKFORD AIRPORT, IL US</td>\n      <td>2019-01-01</td>\n      <td>0.00</td>\n      <td>T,,W,2400</td>\n      <td>0.0</td>\n      <td>T,,W</td>\n    </tr>\n    <tr>\n      <th>1</th>\n      <td>USW00094822</td>\n      <td>ROCKFORD GREATER ROCKFORD AIRPORT, IL US</td>\n      <td>2019-01-02</td>\n      <td>0.00</td>\n      <td>T,,W,2400</td>\n      <td>0.0</td>\n      <td>T,,W</td>\n    </tr>\n    <tr>\n      <th>2</th>\n      <td>USW00094822</td>\n      <td>ROCKFORD GREATER ROCKFORD AIRPORT, IL US</td>\n      <td>2019-01-03</td>\n      <td>0.00</td>\n      <td>,,W,2400</td>\n      <td>0.0</td>\n      <td>,,W</td>\n    </tr>\n    <tr>\n      <th>3</th>\n      <td>USW00094822</td>\n      <td>ROCKFORD GREATER ROCKFORD AIRPORT, IL US</td>\n      <td>2019-01-04</td>\n      <td>0.00</td>\n      <td>,,W,2400</td>\n      <td>0.0</td>\n      <td>,,W</td>\n    </tr>\n    <tr>\n      <th>4</th>\n      <td>USW00094822</td>\n      <td>ROCKFORD GREATER ROCKFORD AIRPORT, IL US</td>\n      <td>2019-01-05</td>\n      <td>0.00</td>\n      <td>,,W,2400</td>\n      <td>0.0</td>\n      <td>,,W</td>\n    </tr>\n    <tr>\n      <th>...</th>\n      <td>...</td>\n      <td>...</td>\n      <td>...</td>\n      <td>...</td>\n      <td>...</td>\n      <td>...</td>\n      <td>...</td>\n    </tr>\n    <tr>\n      <th>494</th>\n      <td>USW00094822</td>\n      <td>ROCKFORD GREATER ROCKFORD AIRPORT, IL US</td>\n      <td>2020-05-09</td>\n      <td>0.00</td>\n      <td>T,,D,2400</td>\n      <td>0.0</td>\n      <td>,,D</td>\n    </tr>\n    <tr>\n      <th>495</th>\n      <td>USW00094822</td>\n      <td>ROCKFORD GREATER ROCKFORD AIRPORT, IL US</td>\n      <td>2020-05-10</td>\n      <td>0.25</td>\n      <td>,,D,2400</td>\n      <td>0.0</td>\n      <td>,,D</td>\n    </tr>\n    <tr>\n      <th>496</th>\n      <td>USW00094822</td>\n      <td>ROCKFORD GREATER ROCKFORD AIRPORT, IL US</td>\n      <td>2020-05-11</td>\n      <td>0.00</td>\n      <td>T,,D,2400</td>\n      <td>0.0</td>\n      <td>,,D</td>\n    </tr>\n    <tr>\n      <th>497</th>\n      <td>USW00094822</td>\n      <td>ROCKFORD GREATER ROCKFORD AIRPORT, IL US</td>\n      <td>2020-05-12</td>\n      <td>0.00</td>\n      <td>,,D,2400</td>\n      <td>0.0</td>\n      <td>,,D</td>\n    </tr>\n    <tr>\n      <th>498</th>\n      <td>USW00094822</td>\n      <td>ROCKFORD GREATER ROCKFORD AIRPORT, IL US</td>\n      <td>2020-05-13</td>\n      <td>NaN</td>\n      <td>NaN</td>\n      <td>NaN</td>\n      <td>NaN</td>\n    </tr>\n  </tbody>\n</table>\n<p>499 rows × 7 columns</p>\n</div>"
     },
     "execution_count": 27,
     "metadata": {},
     "output_type": "execute_result"
    }
   ],
   "source": [
    "pd.read_csv('../../data/Jan 19 - May 20 precip.csv')"
   ],
   "metadata": {
    "collapsed": false,
    "pycharm": {
     "name": "#%%\n"
    }
   }
  },
  {
   "cell_type": "code",
   "execution_count": 28,
   "outputs": [],
   "source": [
    "precip = pd.read_csv('../../data/Jan 19 - May 20 precip.csv')\n"
   ],
   "metadata": {
    "collapsed": false,
    "pycharm": {
     "name": "#%%\n"
    }
   }
  },
  {
   "cell_type": "code",
   "execution_count": 46,
   "outputs": [
    {
     "data": {
      "text/plain": "           DATE  PRCP\n365  2020-01-01  0.00\n366  2020-01-02  0.00\n367  2020-01-03  0.02\n368  2020-01-04  0.00\n369  2020-01-05  0.00\n..          ...   ...\n494  2020-05-09  0.00\n495  2020-05-10  0.25\n496  2020-05-11  0.00\n497  2020-05-12  0.00\n498  2020-05-13   NaN\n\n[134 rows x 2 columns]",
      "text/html": "<div>\n<style scoped>\n    .dataframe tbody tr th:only-of-type {\n        vertical-align: middle;\n    }\n\n    .dataframe tbody tr th {\n        vertical-align: top;\n    }\n\n    .dataframe thead th {\n        text-align: right;\n    }\n</style>\n<table border=\"1\" class=\"dataframe\">\n  <thead>\n    <tr style=\"text-align: right;\">\n      <th></th>\n      <th>DATE</th>\n      <th>PRCP</th>\n    </tr>\n  </thead>\n  <tbody>\n    <tr>\n      <th>365</th>\n      <td>2020-01-01</td>\n      <td>0.00</td>\n    </tr>\n    <tr>\n      <th>366</th>\n      <td>2020-01-02</td>\n      <td>0.00</td>\n    </tr>\n    <tr>\n      <th>367</th>\n      <td>2020-01-03</td>\n      <td>0.02</td>\n    </tr>\n    <tr>\n      <th>368</th>\n      <td>2020-01-04</td>\n      <td>0.00</td>\n    </tr>\n    <tr>\n      <th>369</th>\n      <td>2020-01-05</td>\n      <td>0.00</td>\n    </tr>\n    <tr>\n      <th>...</th>\n      <td>...</td>\n      <td>...</td>\n    </tr>\n    <tr>\n      <th>494</th>\n      <td>2020-05-09</td>\n      <td>0.00</td>\n    </tr>\n    <tr>\n      <th>495</th>\n      <td>2020-05-10</td>\n      <td>0.25</td>\n    </tr>\n    <tr>\n      <th>496</th>\n      <td>2020-05-11</td>\n      <td>0.00</td>\n    </tr>\n    <tr>\n      <th>497</th>\n      <td>2020-05-12</td>\n      <td>0.00</td>\n    </tr>\n    <tr>\n      <th>498</th>\n      <td>2020-05-13</td>\n      <td>NaN</td>\n    </tr>\n  </tbody>\n</table>\n<p>134 rows × 2 columns</p>\n</div>"
     },
     "execution_count": 46,
     "metadata": {},
     "output_type": "execute_result"
    }
   ],
   "source": [
    "precip.loc[precip['DATE'] >= '2020'][['DATE', 'PRCP']]"
   ],
   "metadata": {
    "collapsed": false,
    "pycharm": {
     "name": "#%%\n"
    }
   }
  }
 ],
 "metadata": {
  "kernelspec": {
   "display_name": "Python 3",
   "language": "python",
   "name": "python3"
  },
  "language_info": {
   "codemirror_mode": {
    "name": "ipython",
    "version": 2
   },
   "file_extension": ".py",
   "mimetype": "text/x-python",
   "name": "python",
   "nbconvert_exporter": "python",
   "pygments_lexer": "ipython2",
   "version": "2.7.6"
  }
 },
 "nbformat": 4,
 "nbformat_minor": 0
}