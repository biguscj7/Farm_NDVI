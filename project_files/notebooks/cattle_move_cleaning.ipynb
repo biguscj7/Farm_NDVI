{
 "cells": [
  {
   "cell_type": "code",
   "execution_count": 1,
   "metadata": {
    "collapsed": true
   },
   "outputs": [],
   "source": [
    "import pandas as pd\n",
    "from pprint import pprint as pp\n",
    "import re"
   ]
  },
  {
   "cell_type": "code",
   "execution_count": 60,
   "outputs": [],
   "source": [
    "num_dict = {\"one\": \"1\", \"two\": \"2\", \"three\": \"3\", \"four\": \"4\", \"five\": \"5\", \"six\": \"6\", \"seven\": \"7\",\n",
    "            \"eight\": \"8\", \"nine\": \"9\", \"ten\": \"10\", \"eleven\": \"11\", \"twelve\": \"12\", \"thirteen\": \"13\",\n",
    "            \"fourteen\": \"14\", \"fifteen\": \"15\", \"sixteen\": \"16\", \"seventeen\": \"17\", \"eighteen\": \"18\",\n",
    "            \"nineteen\": \"20\", \"twenty one\": \"21\", \"twenty two\": \"22\", \"twenty three\": \"23\"}\n",
    "\n",
    "word_dict = {\"number \": \"\", \"Paddock \": \"P\", \"paddock \": \"P\", \"East \": \"E\", \"east\": \"E\", \"Paddick \": \"P\",\n",
    "             \"Patek \": \"P\", \"Patrick \": \"P\", \"Padick \": \"P\"}\n",
    "\n",
    "day_list = ['monday', 'tuesday', 'wednesday', 'thursday']\n",
    "\n",
    "paddock = re.compile(\"[PE][\\d]+\")"
   ],
   "metadata": {
    "collapsed": false,
    "pycharm": {
     "name": "#%%\n"
    }
   }
  },
  {
   "cell_type": "code",
   "execution_count": 61,
   "outputs": [
    {
     "data": {
      "text/plain": "                           Date  \\\n0                  Feb 26, 2018   \n1  February 27, 2018 at 04:20PM   \n2                 April 7, 2018   \n3                 April 7, 2018   \n4                 April 7, 2018   \n\n                                               Notes  Rain  Days in Paddock  \\\n0  Franklin, Dakota and Dudley in open shed after...   NaN              NaN   \n1  14 head in E18 - includes Danica Joy, Dakota R...   NaN              NaN   \n2  3 head in corral behind barn - Highball, Ella,...   NaN              NaN   \n3         2 head in open shed  - Franklin and Dudley   NaN              NaN   \n4                     Tattood Danica Joy -  VOM  D70   NaN              NaN   \n\n  Days rest  Cow Calf Weight  \n0       NaN  NaN  NaN    NaN  \n1       NaN  NaN  NaN    NaN  \n2       NaN  NaN  NaN    NaN  \n3       NaN  NaN  NaN    NaN  \n4       NaN  NaN  NaN    NaN  ",
      "text/html": "<div>\n<style scoped>\n    .dataframe tbody tr th:only-of-type {\n        vertical-align: middle;\n    }\n\n    .dataframe tbody tr th {\n        vertical-align: top;\n    }\n\n    .dataframe thead th {\n        text-align: right;\n    }\n</style>\n<table border=\"1\" class=\"dataframe\">\n  <thead>\n    <tr style=\"text-align: right;\">\n      <th></th>\n      <th>Date</th>\n      <th>Notes</th>\n      <th>Rain</th>\n      <th>Days in Paddock</th>\n      <th>Days rest</th>\n      <th>Cow</th>\n      <th>Calf</th>\n      <th>Weight</th>\n    </tr>\n  </thead>\n  <tbody>\n    <tr>\n      <th>0</th>\n      <td>Feb 26, 2018</td>\n      <td>Franklin, Dakota and Dudley in open shed after...</td>\n      <td>NaN</td>\n      <td>NaN</td>\n      <td>NaN</td>\n      <td>NaN</td>\n      <td>NaN</td>\n      <td>NaN</td>\n    </tr>\n    <tr>\n      <th>1</th>\n      <td>February 27, 2018 at 04:20PM</td>\n      <td>14 head in E18 - includes Danica Joy, Dakota R...</td>\n      <td>NaN</td>\n      <td>NaN</td>\n      <td>NaN</td>\n      <td>NaN</td>\n      <td>NaN</td>\n      <td>NaN</td>\n    </tr>\n    <tr>\n      <th>2</th>\n      <td>April 7, 2018</td>\n      <td>3 head in corral behind barn - Highball, Ella,...</td>\n      <td>NaN</td>\n      <td>NaN</td>\n      <td>NaN</td>\n      <td>NaN</td>\n      <td>NaN</td>\n      <td>NaN</td>\n    </tr>\n    <tr>\n      <th>3</th>\n      <td>April 7, 2018</td>\n      <td>2 head in open shed  - Franklin and Dudley</td>\n      <td>NaN</td>\n      <td>NaN</td>\n      <td>NaN</td>\n      <td>NaN</td>\n      <td>NaN</td>\n      <td>NaN</td>\n    </tr>\n    <tr>\n      <th>4</th>\n      <td>April 7, 2018</td>\n      <td>Tattood Danica Joy -  VOM  D70</td>\n      <td>NaN</td>\n      <td>NaN</td>\n      <td>NaN</td>\n      <td>NaN</td>\n      <td>NaN</td>\n      <td>NaN</td>\n    </tr>\n  </tbody>\n</table>\n</div>"
     },
     "execution_count": 61,
     "metadata": {},
     "output_type": "execute_result"
    }
   ],
   "source": [
    "start_data = pd.read_csv('../../data/Cattle move - Sheet1.csv')\n",
    "start_data.head()"
   ],
   "metadata": {
    "collapsed": false,
    "pycharm": {
     "name": "#%%\n"
    }
   }
  },
  {
   "cell_type": "code",
   "execution_count": 62,
   "outputs": [],
   "source": [
    "# Patterns - P16, Paddock 11, 'six'\n",
    "\n",
    "date_notes = start_data[['Date', 'Notes']]"
   ],
   "metadata": {
    "collapsed": false,
    "pycharm": {
     "name": "#%%\n"
    }
   }
  },
  {
   "cell_type": "code",
   "execution_count": 63,
   "outputs": [
    {
     "name": "stdout",
     "output_type": "stream",
     "text": [
      "['Franklin, Dakota and Dudley in open shed after Dudley was caught nursing Stella', '14 head in E18 - includes Danica Joy, Dakota Red and Ernest', '3 head in corral behind barn - Highball, Ella, Evelyn', '2 head in open shed  - Franklin and Dudley', 'Tattood Danica Joy -  VOM  D70']\n"
     ]
    }
   ],
   "source": [
    "notes_list = date_notes['Notes'].to_list()\n",
    "print(notes_list[0:5])"
   ],
   "metadata": {
    "collapsed": false,
    "pycharm": {
     "name": "#%%\n"
    }
   }
  },
  {
   "cell_type": "code",
   "execution_count": 64,
   "outputs": [
    {
     "name": "stdout",
     "output_type": "stream",
     "text": [
      "['Move cows to P7',\n",
      " 'Gave cows P9 in addition to P7',\n",
      " 'Expanded the 2 bowls into P22 west side of driveway',\n",
      " 'Moved cows to P17 - west side of creek',\n",
      " 'Move cows back to Cedar Hill on Saturday gave them 1 bale of hay',\n",
      " 'Easter Sunday, April 12, 2020 move cows to P12 starting them on green forage '\n",
      " 'for the year. Wintered and bail grazed on P9',\n",
      " 'Monday, April 13 moved cows to P8 in the morning.',\n",
      " 'Tuesday, April 14 move cows to P6 in the morning',\n",
      " 'Correction for Easter Sunday the cows began on P7',\n",
      " 'Moved cows to P5 on weds. 4.15. -  to P3 on Thurs 4.16.  -   To P1 on Friday '\n",
      " '4.17.  -  to P2 on Saturday 4.18',\n",
      " 'Move cows to P4 on Sunday',\n",
      " 'Move cows to North 1/3 of E18 on Monday',\n",
      " 'Moved cows to south 1/3 of E18',\n",
      " 'Moved cows to P14',\n",
      " 'Move cows to P12',\n",
      " 'Moved cows to P11',\n",
      " 'Moved cows to P13 on Saturday, 5.2.20',\n",
      " 'Move cows to P15',\n",
      " 'Move cows to P17',\n",
      " 'Move cows to P18',\n",
      " 'Moved cows to around corn crib on Sat. May 9 at noon.',\n",
      " 'Moved cows to P22',\n",
      " 'Moved cows to P23 Mon evening',\n",
      " 'Move cows to P1 Wednesday noon May 13']\n",
      "['P7',\n",
      " 'P9 P7',\n",
      " 'P22',\n",
      " 'P17',\n",
      " '',\n",
      " 'P12 P9',\n",
      " 'P8',\n",
      " 'P6',\n",
      " 'P7',\n",
      " 'P5 P3 P1 P2',\n",
      " 'P4',\n",
      " 'E18',\n",
      " 'E18',\n",
      " 'P14',\n",
      " 'P12',\n",
      " 'P11',\n",
      " 'P13',\n",
      " 'P15',\n",
      " 'P17',\n",
      " 'P18',\n",
      " '',\n",
      " 'P22',\n",
      " 'P23',\n",
      " 'P1']\n"
     ]
    }
   ],
   "source": [
    "new_list = []\n",
    "\n",
    "for x in range(0, len(notes_list)):\n",
    "    for old, new in num_dict.items():\n",
    "        notes_list[x] = str(notes_list[x]).replace(old, new)\n",
    "    for old, new in word_dict.items():\n",
    "        notes_list[x] = str(notes_list[x]).replace(old, new)\n",
    "    new_list.append(' '.join(paddock.findall(notes_list[x])))\n",
    "\n",
    "pp(notes_list[-25:-1])\n",
    "pp(new_list[-25:-1])"
   ],
   "metadata": {
    "collapsed": false,
    "pycharm": {
     "name": "#%%\n"
    }
   }
  },
  {
   "cell_type": "code",
   "execution_count": 65,
   "outputs": [
    {
     "name": "stdout",
     "output_type": "stream",
     "text": [
      "['Feb 26, 2018',\n",
      " 'February 27, 2018 at 04:20PM',\n",
      " 'April 7, 2018',\n",
      " 'April 7, 2018',\n",
      " 'April 7, 2018',\n",
      " 'April 30, 2018 at 03:45PM',\n",
      " 'May 01, 2018 at 05:19AM',\n",
      " 'May 01, 2018 at 06:42PM',\n",
      " 'May 02, 2018 at 04:52AM',\n",
      " 'May 02, 2018 at 06:31PM']\n"
     ]
    }
   ],
   "source": [
    "date_time_list = start_data['Date'].to_list()\n",
    "pp(date_time_list[0:10])"
   ],
   "metadata": {
    "collapsed": false,
    "pycharm": {
     "name": "#%%\n"
    }
   }
  },
  {
   "cell_type": "code",
   "execution_count": 66,
   "outputs": [
    {
     "name": "stdout",
     "output_type": "stream",
     "text": [
      "365\n",
      "365\n"
     ]
    }
   ],
   "source": [
    "date_list = []\n",
    "time_list = []\n",
    "\n",
    "for x in date_time_list:\n",
    "    date_list.append(str(x).split(' at ')[0])\n",
    "    if len(str(x).split(' at ')) == 2:\n",
    "        time_list.append(str(x).split(' at ')[1])\n",
    "    else:\n",
    "        time_list.append('')\n",
    "\n",
    "print(len(date_list))\n",
    "print(len(time_list))"
   ],
   "metadata": {
    "collapsed": false,
    "pycharm": {
     "name": "#%%\n"
    }
   }
  },
  {
   "cell_type": "code",
   "execution_count": 67,
   "outputs": [],
   "source": [
    "new_dict = {'tweaked_notes': notes_list, 'paddock_only': new_list, 'date_only': date_list, 'time_only': time_list}\n",
    "\n",
    "paddock_df = pd.DataFrame(new_dict)\n",
    "\n",
    "#remove rows with nan in notess\n",
    "nan_index = paddock_df[paddock_df['tweaked_notes'] == 'nan'].index\n",
    "paddock_df.drop(nan_index, inplace=True)"
   ],
   "metadata": {
    "collapsed": false,
    "pycharm": {
     "name": "#%%\n"
    }
   }
  },
  {
   "cell_type": "code",
   "execution_count": 68,
   "outputs": [],
   "source": [
    "paddock_df = paddock_df[~paddock_df.tweaked_notes.str.contains('rain')]\n",
    "paddock_df = paddock_df[~paddock_df.tweaked_notes.str.contains('Rain')]\n"
   ],
   "metadata": {
    "collapsed": false,
    "pycharm": {
     "name": "#%%\n"
    }
   }
  },
  {
   "cell_type": "code",
   "execution_count": 69,
   "outputs": [],
   "source": [
    "paddock_df.to_csv('../../data/reduced.csv')"
   ],
   "metadata": {
    "collapsed": false,
    "pycharm": {
     "name": "#%%\n"
    }
   }
  },
  {
   "cell_type": "code",
   "execution_count": 19,
   "outputs": [
    {
     "data": {
      "text/plain": "                        Date  \\\n360  May 10, 2020 at 08:49PM   \n361  May 10, 2020 at 08:49PM   \n362  May 11, 2020 at 06:55PM   \n363  May 14, 2020 at 06:53AM   \n364  May 15, 2020 at 04:03PM   \n\n                                                 Notes  Rain  Days in Paddock  \\\n360  Moved cows to around corn crib on Sat. May 9 a...   NaN              NaN   \n361                           Moved cows to Paddock 22   NaN              NaN   \n362               Moved cows to Paddock 23 Mon evening   NaN              NaN   \n363  Move cows to paddock number one Wednesday noon...   NaN              NaN   \n364                   Moved cows to P #2 Tburs at noon   NaN              NaN   \n\n    Days rest  Cow Calf Weight  \\\n360       NaN  NaN  NaN    NaN   \n361       NaN  NaN  NaN    NaN   \n362       NaN  NaN  NaN    NaN   \n363       NaN  NaN  NaN    NaN   \n364       NaN  NaN  NaN    NaN   \n\n                                         Tweaked notes Paddock only  \\\n360  Moved cows to around corn crib on Sat. May 9 a...                \n361                                  Moved cows to P22          P22   \n362                      Moved cows to P23 Mon evening          P23   \n363              Move cows to P1 Wednesday noon May 13           P1   \n364                   Moved cows to P #2 Tburs at noon                \n\n        Date only Time only  \n360  May 10, 2020   08:49PM  \n361  May 10, 2020   08:49PM  \n362  May 11, 2020   06:55PM  \n363  May 14, 2020   06:53AM  \n364  May 15, 2020   04:03PM  ",
      "text/html": "<div>\n<style scoped>\n    .dataframe tbody tr th:only-of-type {\n        vertical-align: middle;\n    }\n\n    .dataframe tbody tr th {\n        vertical-align: top;\n    }\n\n    .dataframe thead th {\n        text-align: right;\n    }\n</style>\n<table border=\"1\" class=\"dataframe\">\n  <thead>\n    <tr style=\"text-align: right;\">\n      <th></th>\n      <th>Date</th>\n      <th>Notes</th>\n      <th>Rain</th>\n      <th>Days in Paddock</th>\n      <th>Days rest</th>\n      <th>Cow</th>\n      <th>Calf</th>\n      <th>Weight</th>\n      <th>Tweaked notes</th>\n      <th>Paddock only</th>\n      <th>Date only</th>\n      <th>Time only</th>\n    </tr>\n  </thead>\n  <tbody>\n    <tr>\n      <th>360</th>\n      <td>May 10, 2020 at 08:49PM</td>\n      <td>Moved cows to around corn crib on Sat. May 9 a...</td>\n      <td>NaN</td>\n      <td>NaN</td>\n      <td>NaN</td>\n      <td>NaN</td>\n      <td>NaN</td>\n      <td>NaN</td>\n      <td>Moved cows to around corn crib on Sat. May 9 a...</td>\n      <td></td>\n      <td>May 10, 2020</td>\n      <td>08:49PM</td>\n    </tr>\n    <tr>\n      <th>361</th>\n      <td>May 10, 2020 at 08:49PM</td>\n      <td>Moved cows to Paddock 22</td>\n      <td>NaN</td>\n      <td>NaN</td>\n      <td>NaN</td>\n      <td>NaN</td>\n      <td>NaN</td>\n      <td>NaN</td>\n      <td>Moved cows to P22</td>\n      <td>P22</td>\n      <td>May 10, 2020</td>\n      <td>08:49PM</td>\n    </tr>\n    <tr>\n      <th>362</th>\n      <td>May 11, 2020 at 06:55PM</td>\n      <td>Moved cows to Paddock 23 Mon evening</td>\n      <td>NaN</td>\n      <td>NaN</td>\n      <td>NaN</td>\n      <td>NaN</td>\n      <td>NaN</td>\n      <td>NaN</td>\n      <td>Moved cows to P23 Mon evening</td>\n      <td>P23</td>\n      <td>May 11, 2020</td>\n      <td>06:55PM</td>\n    </tr>\n    <tr>\n      <th>363</th>\n      <td>May 14, 2020 at 06:53AM</td>\n      <td>Move cows to paddock number one Wednesday noon...</td>\n      <td>NaN</td>\n      <td>NaN</td>\n      <td>NaN</td>\n      <td>NaN</td>\n      <td>NaN</td>\n      <td>NaN</td>\n      <td>Move cows to P1 Wednesday noon May 13</td>\n      <td>P1</td>\n      <td>May 14, 2020</td>\n      <td>06:53AM</td>\n    </tr>\n    <tr>\n      <th>364</th>\n      <td>May 15, 2020 at 04:03PM</td>\n      <td>Moved cows to P #2 Tburs at noon</td>\n      <td>NaN</td>\n      <td>NaN</td>\n      <td>NaN</td>\n      <td>NaN</td>\n      <td>NaN</td>\n      <td>NaN</td>\n      <td>Moved cows to P #2 Tburs at noon</td>\n      <td></td>\n      <td>May 15, 2020</td>\n      <td>04:03PM</td>\n    </tr>\n  </tbody>\n</table>\n</div>"
     },
     "execution_count": 19,
     "metadata": {},
     "output_type": "execute_result"
    }
   ],
   "source": [
    "all_data = pd.concat([start_data, paddock_df], axis=1)\n",
    "all_data.tail()"
   ],
   "metadata": {
    "collapsed": false,
    "pycharm": {
     "name": "#%%\n"
    }
   }
  },
  {
   "cell_type": "code",
   "execution_count": 20,
   "outputs": [],
   "source": [
    "all_data.to_csv('../../data/cleaned.csv')\n"
   ],
   "metadata": {
    "collapsed": false,
    "pycharm": {
     "name": "#%%\n"
    }
   }
  }
 ],
 "metadata": {
  "kernelspec": {
   "display_name": "Python 3",
   "language": "python",
   "name": "python3"
  },
  "language_info": {
   "codemirror_mode": {
    "name": "ipython",
    "version": 2
   },
   "file_extension": ".py",
   "mimetype": "text/x-python",
   "name": "python",
   "nbconvert_exporter": "python",
   "pygments_lexer": "ipython2",
   "version": "2.7.6"
  }
 },
 "nbformat": 4,
 "nbformat_minor": 0
}