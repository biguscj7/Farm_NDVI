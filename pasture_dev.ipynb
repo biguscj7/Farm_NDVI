{
 "cells": [
  {
   "cell_type": "code",
   "execution_count": 1,
   "metadata": {
    "collapsed": true
   },
   "outputs": [],
   "source": [
    "from sentinelsat import SentinelAPI, read_geojson, geojson_to_wkt\n",
    "import rasterio\n",
    "import rasterio.mask\n",
    "import numpy as np\n",
    "import numpy.ma as ma\n",
    "from rasterio.windows import from_bounds\n",
    "from rasterio.warp import calculate_default_transform, reproject, Resampling\n",
    "import geopandas as gpd\n",
    "import os\n",
    "import shutil\n",
    "from zipfile import ZipFile\n"
   ]
  },
  {
   "cell_type": "code",
   "execution_count": 21,
   "outputs": [],
   "source": [
    "all_geom = gpd.read_file('farm_simple.geojson')\n",
    "pad_geom = all_geom[all_geom.name == 'Padded box']\n",
    "pad_geom_m = pad_geom.to_crs('epsg:32616')"
   ],
   "metadata": {
    "collapsed": false,
    "pycharm": {
     "name": "#%%\n"
    }
   }
  },
  {
   "cell_type": "code",
   "execution_count": 31,
   "outputs": [
    {
     "name": "stderr",
     "output_type": "stream",
     "text": [
      "/Users/MarkNyberg/PycharmProjects/sentinel_processing/venv/lib/python3.7/site-packages/ipykernel_launcher.py:26: RuntimeWarning: invalid value encountered in true_divide\n"
     ]
    }
   ],
   "source": [
    "with rasterio.open('./data/S2A_MSIL2A_20200418T164901_N0214_R026_T16TCM_20200418T210937.SAFE/GRANULE/L2A_T16TCM_A025191_20200418T165421/IMG_DATA/R10m/T16TCM_20200418T164901_B04_10m.jp2', 'r') as b4:\n",
    "    b4_img, b4_transform = rasterio.mask.mask(b4, pad_geom_m.geometry, crop=True)\n",
    "    b4_out_meta = b4.meta.copy()\n",
    "    b4_out_meta.update({'driver': 'GTiff',\n",
    "                     'height': b4_img.shape[1],\n",
    "                     'width': b4_img.shape[2],\n",
    "                     'transform': b4_transform})\n",
    "    red = b4_img.astype(float)\n",
    "\n",
    "with rasterio.open('B4_masked.tiff', 'w', **b4_out_meta) as dest:\n",
    "    dest.write(b4_img)\n",
    "\n",
    "with rasterio.open('./data/S2A_MSIL2A_20200418T164901_N0214_R026_T16TCM_20200418T210937.SAFE/GRANULE/L2A_T16TCM_A025191_20200418T165421/IMG_DATA/R10m/T16TCM_20200418T164901_B08_10m.jp2', 'r') as b8:\n",
    "    b8_img, b8_transform = rasterio.mask.mask(b8, pad_geom_m.geometry, crop=True)\n",
    "    b8_out_meta = b8.meta.copy()\n",
    "    b8_out_meta.update({'driver': 'GTiff',\n",
    "                        'height': b8_img.shape[1],\n",
    "                        'width': b8_img.shape[2],\n",
    "                        'transform': b8_transform})\n",
    "    nir = b8_img.astype(float)\n",
    "\n",
    "with rasterio.open('B8_masked.tiff', 'w', **b8_out_meta) as dest:\n",
    "    dest.write(b8_img)\n",
    "\n",
    "\n",
    "ndvi = (nir - red)/(nir + red)\n",
    "b4_out_meta.update({'dtype': rasterio.float64})\n",
    "\n",
    "with rasterio.open('NDVI_masked.tiff', 'w', **b4_out_meta) as dest:\n",
    "    dest.write(ndvi.astype(rasterio.float64))"
   ],
   "metadata": {
    "collapsed": false,
    "pycharm": {
     "name": "#%%\n"
    }
   }
  },
  {
   "cell_type": "code",
   "execution_count": 45,
   "outputs": [
    {
     "name": "stdout",
     "output_type": "stream",
     "text": [
      "0.3608108486820853\n",
      "0.9284578696343402\n",
      "-0.04655493482309125\n"
     ]
    }
   ],
   "source": [
    "print(np.nanmean(ndvi))\n",
    "print(np.nanmax(ndvi))\n",
    "print(np.nanmin(ndvi))"
   ],
   "metadata": {
    "collapsed": false,
    "pycharm": {
     "name": "#%%\n"
    }
   }
  },
  {
   "cell_type": "code",
   "execution_count": 46,
   "outputs": [
    {
     "name": "stdout",
     "output_type": "stream",
     "text": [
      "45891\n"
     ]
    }
   ],
   "source": [
    "print(np.count_nonzero(~np.isnan(ndvi)))"
   ],
   "metadata": {
    "collapsed": false,
    "pycharm": {
     "name": "#%%\n"
    }
   }
  }
 ],
 "metadata": {
  "kernelspec": {
   "display_name": "Python 3",
   "language": "python",
   "name": "python3"
  },
  "language_info": {
   "codemirror_mode": {
    "name": "ipython",
    "version": 2
   },
   "file_extension": ".py",
   "mimetype": "text/x-python",
   "name": "python",
   "nbconvert_exporter": "python",
   "pygments_lexer": "ipython2",
   "version": "2.7.6"
  }
 },
 "nbformat": 4,
 "nbformat_minor": 0
}